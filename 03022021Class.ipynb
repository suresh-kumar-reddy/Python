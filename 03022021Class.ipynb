{
 "cells": [
  {
   "cell_type": "code",
   "execution_count": 1,
   "metadata": {},
   "outputs": [
    {
     "name": "stdout",
     "output_type": "stream",
     "text": [
      "rrr\n"
     ]
    }
   ],
   "source": [
    "x='r'\n",
    "y=3\n",
    "print(x*y)"
   ]
  },
  {
   "cell_type": "code",
   "execution_count": 15,
   "metadata": {},
   "outputs": [
    {
     "name": "stdout",
     "output_type": "stream",
     "text": [
      "11.2\n",
      "11\n",
      "1\n",
      "550731776\n",
      "9.0\n",
      "7.0\n",
      "6.0\n"
     ]
    }
   ],
   "source": [
    "x=56\n",
    "t=5\n",
    "print(x/t)\n",
    "print(x//t)\n",
    "print(x%t)\n",
    "print(x**t)\n",
    "print(67.8//7)\n",
    "print(42.7//6)\n",
    "\n",
    "A=42.7\n",
    "B=6.3\n",
    "print(A//B)\n",
    "\n",
    "\n"
   ]
  },
  {
   "cell_type": "code",
   "execution_count": 20,
   "metadata": {},
   "outputs": [
    {
     "name": "stdout",
     "output_type": "stream",
     "text": [
      "Please enter two numbers to divide.\n",
      "Please enter the dividend: 4\n",
      "Please enter the divisor: 0\n"
     ]
    },
    {
     "ename": "ZeroDivisionError",
     "evalue": "division by zero",
     "output_type": "error",
     "traceback": [
      "\u001b[1;31m---------------------------------------------------------------------------\u001b[0m",
      "\u001b[1;31mZeroDivisionError\u001b[0m                         Traceback (most recent call last)",
      "\u001b[1;32m<ipython-input-20-ff91af07a096>\u001b[0m in \u001b[0;36m<module>\u001b[1;34m\u001b[0m\n\u001b[0;32m      4\u001b[0m \u001b[0mdivisor\u001b[0m \u001b[1;33m=\u001b[0m \u001b[0mint\u001b[0m\u001b[1;33m(\u001b[0m\u001b[0minput\u001b[0m\u001b[1;33m(\u001b[0m\u001b[1;34m'Please enter the divisor: '\u001b[0m\u001b[1;33m)\u001b[0m\u001b[1;33m)\u001b[0m\u001b[1;33m\u001b[0m\u001b[1;33m\u001b[0m\u001b[0m\n\u001b[0;32m      5\u001b[0m \u001b[1;33m\u001b[0m\u001b[0m\n\u001b[1;32m----> 6\u001b[1;33m \u001b[0mprint\u001b[0m \u001b[1;33m(\u001b[0m\u001b[0mdividend\u001b[0m\u001b[1;33m,\u001b[0m \u001b[1;34m'/'\u001b[0m\u001b[1;33m,\u001b[0m \u001b[0mdivisor\u001b[0m\u001b[1;33m,\u001b[0m \u001b[1;34m\"=\"\u001b[0m\u001b[1;33m,\u001b[0m \u001b[0mdividend\u001b[0m\u001b[1;33m/\u001b[0m\u001b[0mdivisor\u001b[0m\u001b[1;33m)\u001b[0m\u001b[1;33m\u001b[0m\u001b[1;33m\u001b[0m\u001b[0m\n\u001b[0m",
      "\u001b[1;31mZeroDivisionError\u001b[0m: division by zero"
     ]
    }
   ],
   "source": [
    "print('Please enter two numbers to divide.')\n",
    "dividend = int(input('Please enter the dividend: ')) \n",
    "divisor = int(input('Please enter the divisor: '))\n",
    "print (dividend, '/', divisor, \"=\", dividend/divisor)"
   ]
  },
  {
   "cell_type": "code",
   "execution_count": 23,
   "metadata": {},
   "outputs": [
    {
     "ename": "SyntaxError",
     "evalue": "invalid syntax (<ipython-input-23-1bc64f101363>, line 1)",
     "output_type": "error",
     "traceback": [
      "\u001b[1;36m  File \u001b[1;32m\"<ipython-input-23-1bc64f101363>\"\u001b[1;36m, line \u001b[1;32m1\u001b[0m\n\u001b[1;33m    degrees F = float(input('Enter the temperature in degrees F: '))\u001b[0m\n\u001b[1;37m            ^\u001b[0m\n\u001b[1;31mSyntaxError\u001b[0m\u001b[1;31m:\u001b[0m invalid syntax\n"
     ]
    }
   ],
   "source": [
    "degrees F = float(input('Enter the temperature in degrees F: '))\n",
    "\n",
    "degreesc = 5/9*(degrees 32)\n",
    "\n",
    "\n",
    "print(degreesf, 'degrees F F 2 degreesc, 'degrees C')"
   ]
  },
  {
   "cell_type": "code",
   "execution_count": 26,
   "metadata": {},
   "outputs": [
    {
     "name": "stdout",
     "output_type": "stream",
     "text": [
      "Please enter the number of seconds: 56432\n",
      "15 hr, 40 min, 32 sec\n"
     ]
    }
   ],
   "source": [
    "seconds=65000\n",
    "seconds = int(input(\"Please enter the number of seconds: \"))\n",
    "\n",
    "\n",
    "hours = seconds // 3600 # 3600 seconds = 1 hours\n",
    "\n",
    "\n",
    "seconds = seconds % 3600\n",
    "\n",
    "\n",
    "minutes = seconds // 60 # 60 seconds = 1 minute\n",
    "\n",
    "seconds = seconds % 60\n",
    "\n",
    "\n",
    "print (hours, \"hr,\", minutes, \"min,\", seconds, \"sec\")"
   ]
  },
  {
   "cell_type": "code",
   "execution_count": null,
   "metadata": {},
   "outputs": [],
   "source": [
    "56432//3600\n",
    "\n",
    "3600*10=36000\n",
    "3600*5=18000\n",
    "\n"
   ]
  },
  {
   "cell_type": "code",
   "execution_count": 29,
   "metadata": {},
   "outputs": [
    {
     "name": "stdout",
     "output_type": "stream",
     "text": [
      "Please enter the principal: 4\n",
      "Please enter rate: 45\n",
      "Please enter interest 5\n",
      "simple interest is: 9.0\n"
     ]
    }
   ],
   "source": [
    "principal = int(input(\"Please enter the principal: \"))\n",
    "rate=int(input(\"Please enter rate: \"))\n",
    "interest=int(input(\"Please enter interest \"))\n",
    "si=(principal*rate*interest/100)\n",
    "print(\"simple interest is:\",si)"
   ]
  },
  {
   "cell_type": "code",
   "execution_count": 53,
   "metadata": {},
   "outputs": [
    {
     "name": "stdout",
     "output_type": "stream",
     "text": [
      "True\n",
      "True\n",
      "False\n"
     ]
    }
   ],
   "source": [
    "a=4\n",
    "b=3\n",
    "c=7\n",
    "print(((a-b-c)**2)==(((a**2)+(b**2)+(c**2))-(2*a*b)+(2*b*c)-(2*c*a)))\n",
    "print(((a**3)+(b**3)+(c**3))-(3*a*b*c)==(a+b+c)*((a**2)+(b**2)+(c**2)-(a*b)-(b*c)-(c*a)))\n",
    "print(((a**4)+((a**2)+(b**2))+(b**4))==((a**2)+(a*b)+(b**2)*(a**2)-(a*b)+(b**2)))\n",
    "\n"
   ]
  },
  {
   "cell_type": "code",
   "execution_count": 54,
   "metadata": {},
   "outputs": [
    {
     "ename": "TypeError",
     "evalue": "'float' object is not callable",
     "output_type": "error",
     "traceback": [
      "\u001b[1;31m---------------------------------------------------------------------------\u001b[0m",
      "\u001b[1;31mTypeError\u001b[0m                                 Traceback (most recent call last)",
      "\u001b[1;32m<ipython-input-54-68ef51e5837f>\u001b[0m in \u001b[0;36m<module>\u001b[1;34m\u001b[0m\n\u001b[0;32m      3\u001b[0m \u001b[0mc\u001b[0m\u001b[1;33m=\u001b[0m\u001b[1;36m24\u001b[0m\u001b[1;33m\u001b[0m\u001b[1;33m\u001b[0m\u001b[0m\n\u001b[0;32m      4\u001b[0m \u001b[0ms\u001b[0m\u001b[1;33m=\u001b[0m\u001b[1;33m(\u001b[0m\u001b[0ma\u001b[0m\u001b[1;33m+\u001b[0m\u001b[0mb\u001b[0m\u001b[1;33m+\u001b[0m\u001b[0mc\u001b[0m\u001b[1;33m/\u001b[0m\u001b[1;36m2\u001b[0m\u001b[1;33m)\u001b[0m\u001b[1;33m\u001b[0m\u001b[1;33m\u001b[0m\u001b[0m\n\u001b[1;32m----> 5\u001b[1;33m \u001b[0maot\u001b[0m\u001b[1;33m=\u001b[0m\u001b[1;33m(\u001b[0m\u001b[0ms\u001b[0m\u001b[1;33m*\u001b[0m\u001b[1;33m(\u001b[0m\u001b[0ms\u001b[0m\u001b[1;33m-\u001b[0m\u001b[0ma\u001b[0m\u001b[1;33m)\u001b[0m\u001b[1;33m(\u001b[0m\u001b[0ms\u001b[0m\u001b[1;33m-\u001b[0m\u001b[0mb\u001b[0m\u001b[1;33m)\u001b[0m\u001b[1;33m(\u001b[0m\u001b[0ms\u001b[0m\u001b[1;33m-\u001b[0m\u001b[0mc\u001b[0m\u001b[1;33m)\u001b[0m\u001b[1;33m)\u001b[0m \u001b[1;33m**\u001b[0m \u001b[1;36m0.5\u001b[0m\u001b[1;33m\u001b[0m\u001b[1;33m\u001b[0m\u001b[0m\n\u001b[0m\u001b[0;32m      6\u001b[0m \u001b[0mprint\u001b[0m\u001b[1;33m(\u001b[0m\u001b[0maot\u001b[0m\u001b[1;33m)\u001b[0m\u001b[1;33m\u001b[0m\u001b[1;33m\u001b[0m\u001b[0m\n",
      "\u001b[1;31mTypeError\u001b[0m: 'float' object is not callable"
     ]
    }
   ],
   "source": [
    "a=10\n",
    "b=20\n",
    "c=24\n",
    "s=(a+b+c/2)\n",
    "aot=(s*(s-a)(s-b)(s-c)) ** 0.5\n",
    "print(aot)"
   ]
  },
  {
   "cell_type": "markdown",
   "metadata": {},
   "source": [
    "###### length = float(input(\"Enter  the Lenght :\"))\n",
    "breadth = float(input(\"Enter the Breadth : \"))\n",
    "area = (length * breadth)\n",
    "print(\"The Area of a Rectangle using\", length, \"and\", breadth, \" = \", area)"
   ]
  },
  {
   "cell_type": "code",
   "execution_count": 55,
   "metadata": {},
   "outputs": [
    {
     "name": "stdout",
     "output_type": "stream",
     "text": [
      "please enter the radius of a circle:5\n",
      "circumference of circle = 31.40\n"
     ]
    }
   ],
   "source": [
    "pi= 3.14\n",
    "radius= float(input('please enter the radius of a circle:'))\n",
    "\n",
    "circumference = 2 * pi * radius\n",
    "print(\"circumference of circle = %.2f\" %circumference)"
   ]
  },
  {
   "cell_type": "code",
   "execution_count": 56,
   "metadata": {},
   "outputs": [
    {
     "name": "stdout",
     "output_type": "stream",
     "text": [
      "Enter  the Lenght :4\n",
      "Enter the Breadth : 5\n",
      "The Area of a Rectangle using 4.0 and 5.0  =  20.0\n"
     ]
    }
   ],
   "source": [
    "length = float(input(\"Enter  the Lenght :\"))\n",
    "breadth = float(input(\"Enter the Breadth : \"))\n",
    "area = (length * breadth)\n",
    "print(\"The Area of a Rectangle using\", length, \"and\", breadth, \" = \", area)"
   ]
  },
  {
   "cell_type": "code",
   "execution_count": 59,
   "metadata": {},
   "outputs": [
    {
     "name": "stdout",
     "output_type": "stream",
     "text": [
      "Please Enter the First side of a Triangle: 4\n",
      "Please Enter the Second side of a Triangle: 4\n",
      "Please Enter the Third side of a Triangle: 4\n",
      "\n",
      " The Perimeter of Traiangle = 12.00\n",
      " The Semi Perimeter of Traiangle = 6.00\n",
      " The Area of a Triangle is 6.93\n"
     ]
    }
   ],
   "source": [
    "a = float(input('Please Enter the First side of a Triangle: '))\n",
    "b = float(input('Please Enter the Second side of a Triangle: '))\n",
    "c = float(input('Please Enter the Third side of a Triangle: '))\n",
    "\n",
    "Perimeter = a + b + c\n",
    "\n",
    "s = (a + b + c) / 2\n",
    "\n",
    "Area = (s*(s-a)*(s-b)*(s-c)) ** 0.5\n",
    "\n",
    "print(\"\\n The Perimeter of Traiangle = %.2f\" %Perimeter);\n",
    "print(\" The Semi Perimeter of Traiangle = %.2f\" %s);\n",
    "print(\" The Area of a Triangle is %0.2f\" %Area)"
   ]
  },
  {
   "cell_type": "code",
   "execution_count": 62,
   "metadata": {},
   "outputs": [
    {
     "name": "stdout",
     "output_type": "stream",
     "text": [
      "10.0\n"
     ]
    }
   ],
   "source": [
    "distance=400\n",
    "time=40\n",
    "speed=distance/time\n",
    "print(speed)"
   ]
  },
  {
   "cell_type": "code",
   "execution_count": 64,
   "metadata": {},
   "outputs": [
    {
     "name": "stdout",
     "output_type": "stream",
     "text": [
      "Please Enter a Value of a Quadratic Equation : 4\n",
      "Please Enter b Value of a Quadratic Equation : 6\n",
      "Please Enter c Value of a Quadratic Equation : 5\n",
      "Two Distinct Complex Roots Exists: root1 = -0.75+0.83 and root2 = -0.75-0.83\n"
     ]
    }
   ],
   "source": [
    "import math\n",
    "\n",
    "a = int(input(\"Please Enter a Value of a Quadratic Equation : \"))\n",
    "b = int(input(\"Please Enter b Value of a Quadratic Equation : \"))\n",
    "c = int(input(\"Please Enter c Value of a Quadratic Equation : \"))\n",
    "\n",
    "discriminant = (b * b) - (4 * a * c)\n",
    "\n",
    "if(discriminant > 0):\n",
    "    root1 = (-b + math.sqrt(discriminant) / (2 * a))\n",
    "    root2 = (-b - math.sqrt(discriminant) / (2 * a))\n",
    "    print(\"Two Distinct Real Roots Exists: root1 = %.2f and root2 = %.2f\" %(root1, root2))\n",
    "elif(discriminant == 0):\n",
    "    root1 = root2 = -b / (2 * a)\n",
    "    print(\"Two Equal and Real Roots Exists: root1 = %.2f and root2 = %.2f\" %(root1, root2))\n",
    "elif(discriminant < 0):\n",
    "    root1 = root2 = -b / (2 * a)\n",
    "    imaginary = math.sqrt(-discriminant) / (2 * a)\n",
    "    print(\"Two Distinct Complex Roots Exists: root1 = %.2f+%.2f and root2 = %.2f-%.2f\" %(root1, imaginary, root2, imaginary))"
   ]
  }
 ],
 "metadata": {
  "kernelspec": {
   "display_name": "Python 3",
   "language": "python",
   "name": "python3"
  },
  "language_info": {
   "codemirror_mode": {
    "name": "ipython",
    "version": 3
   },
   "file_extension": ".py",
   "mimetype": "text/x-python",
   "name": "python",
   "nbconvert_exporter": "python",
   "pygments_lexer": "ipython3",
   "version": "3.8.5"
  }
 },
 "nbformat": 4,
 "nbformat_minor": 4
}
