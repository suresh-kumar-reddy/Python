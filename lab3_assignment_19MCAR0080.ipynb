{
 "cells": [
  {
   "cell_type": "code",
   "execution_count": 8,
   "metadata": {},
   "outputs": [
    {
     "name": "stdout",
     "output_type": "stream",
     "text": [
      "Please enter 4 digit number to reverse it: 5982\n",
      "Reverse number is:  2895\n"
     ]
    }
   ],
   "source": [
    "'''\n",
    "[12]. A 4 digit number is entered through keyboard. Write a program to print a new number with digits\n",
    "reversed as of original one. E.g.-\n",
    "INPUT : 1234 OUTPUT : 4321\n",
    "INPUT : 5982 OUTPUT : 2895\n",
    "'''\n",
    "\n",
    "number=int(input('Please enter 4 digit number to reverse it: '))\n",
    "reverse_number = '' \n",
    "while number > 0:\n",
    "    last_digit = number % 10\n",
    "    reverse_number = reverse_number + str(last_digit)\n",
    "    number = number // 10\n",
    " \n",
    "print(\"Reverse number is: \", reverse_number)"
   ]
  },
  {
   "cell_type": "code",
   "execution_count": null,
   "metadata": {},
   "outputs": [],
   "source": []
  },
  {
   "cell_type": "code",
   "execution_count": 20,
   "metadata": {},
   "outputs": [
    {
     "name": "stdout",
     "output_type": "stream",
     "text": [
      "Enter age(1-100): 56\n",
      "Enter gender(M or F): M\n",
      "Enter marital status(Y/N): N\n",
      "Employee is Male and he cound work in urban area only\n"
     ]
    }
   ],
   "source": [
    "'''[11]. Ask user to enter age, sex ( M or F ), marital status ( Y or N ) and then using following rules print their\n",
    "place of service.\n",
    "if employee is female, then she will work only in urban areas.\n",
    "if employee is a male and age is in between 20 to 40 then he may work in anywhere\n",
    "if employee is male and age is in between 40 t0 60 then he will work in urban areas only.\n",
    "And any other input of age should print \"ERROR\".\n",
    "'''\n",
    "\n",
    "age=int(input('Enter age(1-100): '))\n",
    "gender=input('Enter gender(M or F): ')\n",
    "marital_status=input('Enter marital status(Y/N): ')\n",
    "if gender=='F':\n",
    "    print('Employee is Female so she will work in urban area')\n",
    "elif gender=='M' and age>=20 and age<=40:\n",
    "    print('Employee is Male and he could work anywhere')\n",
    "elif gender=='M' and age>=40 and age<=60:\n",
    "    print('Employee is Male and he cound work in urban area only')\n",
    "else:\n",
    "    print('ERROR')\n"
   ]
  },
  {
   "cell_type": "code",
   "execution_count": 24,
   "metadata": {},
   "outputs": [
    {
     "name": "stdout",
     "output_type": "stream",
     "text": [
      "Enter a year: 2000\n",
      "2000 is a leap year\n"
     ]
    }
   ],
   "source": [
    "'''\n",
    "[10]. Write a program to check if a year is leap year or not. If a year is divisible by 4 then it is leap year but\n",
    "if the year is century year like 2000, 1900, 2100 then it must be divisible by 400.\n",
    "'''\n",
    "year = int(input(\"Enter a year: \"))\n",
    "\n",
    "if (year % 4) == 0:\n",
    "   if (year % 100) == 0:\n",
    "       if (year % 400) == 0:\n",
    "           print(\"{0} is a leap year\".format(year))\n",
    "       else:\n",
    "           print(\"{0} is not a leap year\".format(year))\n",
    "   else:\n",
    "       print(\"{0} is a leap year\".format(year))\n",
    "else:\n",
    "   print(\"{0} is not a leap year\".format(year))\n"
   ]
  },
  {
   "cell_type": "code",
   "execution_count": 23,
   "metadata": {},
   "outputs": [
    {
     "name": "stdout",
     "output_type": "stream",
     "text": [
      "Is the student medical condition is good(Y/N)Y\n",
      "Student can sit in the class\n"
     ]
    }
   ],
   "source": [
    "'''[9]. Modify the above question to allow student to sit if he/she has medical cause. Ask user if he/she has\n",
    "medical cause or not ( 'Y' or 'N' ) and print accordingly.\n",
    "'''\n",
    "\n",
    "medical_cause=input('Is the student medical condition is good(Y/N)')\n",
    "if medical_cause=='N':\n",
    "    print('Student can not sit in the class')\n",
    "else:\n",
    "    print('Student can sit in the class')"
   ]
  },
  {
   "cell_type": "code",
   "execution_count": 25,
   "metadata": {},
   "outputs": [
    {
     "name": "stdout",
     "output_type": "stream",
     "text": [
      "Enter number of classes for a subject: 40\n",
      "Enter number of classes student attended: 30\n",
      "Student percentage of attendance is:  75.0\n",
      "Student can sit for the exam\n"
     ]
    }
   ],
   "source": [
    "'''[8]. A student will not be allowed to sit in exam if his/her attendance is less than 75%.\n",
    "Take following input from user\n",
    "Number of classes held\n",
    "Number of classes attended.\n",
    "And print\n",
    "percentage of class attended\n",
    "Is student is allowed to sit in exam or not.\n",
    "'''\n",
    "\n",
    "\n",
    "number_of_classes=int(input('Enter number of classes for a subject: '))\n",
    "s_attended=int(input('Enter number of classes student attended: '))\n",
    "avg_attendance=s_attended/number_of_classes*100\n",
    "print('Student percentage of attendance is: ',avg_attendance)\n",
    "if avg_attendance<75:\n",
    "    print('Student cant sit for the exam since attendance is shortage')\n",
    "else:\n",
    "    print('Student can sit for the exam')"
   ]
  },
  {
   "cell_type": "code",
   "execution_count": 26,
   "metadata": {},
   "outputs": [
    {
     "name": "stdout",
     "output_type": "stream",
     "text": [
      "Enter a number to get the absolute value of the same: -1\n",
      "Absolute of a number: -1  is  1\n"
     ]
    }
   ],
   "source": [
    "'''\n",
    "[7]. Write a program to print absolute value of a number entered by user. E.g.-\n",
    "INPUT: 1 OUTPUT: 1\n",
    "INPUT: -1 OUTPUT: 1\n",
    "'''\n",
    "\n",
    "number=int(input('Enter a number to get the absolute value of the same: '))\n",
    "print('Absolute of a number:',number,' is ',abs(number))"
   ]
  },
  {
   "cell_type": "code",
   "execution_count": 33,
   "metadata": {},
   "outputs": [
    {
     "name": "stdout",
     "output_type": "stream",
     "text": [
      "Enter first person's age45\n",
      "Enter second person's age53\n",
      "Enter third person's age24\n",
      "second person is oldest\n",
      "third person is Youngest\n"
     ]
    }
   ],
   "source": [
    "'''\n",
    "[6]. Take input of age of 3 people by user and determine oldest and youngest among them.\n",
    "'''\n",
    "\n",
    "age1=int(input('Enter first person\\'s age'))\n",
    "age2=int(input('Enter second person\\'s age'))\n",
    "age3=int(input('Enter third person\\'s age'))\n",
    "if age1>age2 and age1>age3:\n",
    "    print('First person is oldest')\n",
    "if age1<age2 and age1<age3:\n",
    "    print('First person is Youngest')\n",
    "if age2>age1 and age2>age3:\n",
    "    print('second person is oldest')\n",
    "if age2<age1 and age2<age3:\n",
    "    print('second person is Youngest')\n",
    "if age3>age2 and age3>age1:\n",
    "    print('third person is oldest')\n",
    "if age3<age1 and age3<age2:\n",
    "    print('third person is Youngest')\n",
    "    \n"
   ]
  },
  {
   "cell_type": "code",
   "execution_count": 38,
   "metadata": {},
   "outputs": [
    {
     "name": "stdout",
     "output_type": "stream",
     "text": [
      "input the marks: 45\n",
      "D\n"
     ]
    }
   ],
   "source": [
    "'''[5]. A school has following rules for grading system:\n",
    "a. Below 25 - F\n",
    "b. 25 to 45 - E\n",
    "c. 45 to 50 - D\n",
    "d. 50 to 60 - C\n",
    "e. 60 to 80 - B\n",
    "f. Above 80 - A\n",
    "Ask user to enter marks and print the corresponding grade.\n",
    "'''\n",
    "marks=int(input('input the marks: '))\n",
    "if marks<25:\n",
    "  print(\"F\")\n",
    "elif marks>=25 and marks<45:\n",
    "  print(\"E\")\n",
    "elif marks>=45 and marks<50:\n",
    "  print (\"D\")\n",
    "elif marks>=50 and marks<60:\n",
    "  print (\"C\")\n",
    "elif marks>=60 and marks<80:\n",
    "  print (\"B\")\n",
    "else:\n",
    "  print (\"A\")"
   ]
  },
  {
   "cell_type": "code",
   "execution_count": 47,
   "metadata": {},
   "outputs": [
    {
     "name": "stdout",
     "output_type": "stream",
     "text": [
      "Enter salary: 3554\n",
      "Enter year of service1\n",
      "No bonus\n"
     ]
    }
   ],
   "source": [
    "'''[4]. A company decided to give bonus of 5% to employee if his/her year of service is more than 5 years.\n",
    "Ask user for their salary and year of service and print the net bonus amount.\n",
    "'''\n",
    "\n",
    "salary=int(input(\"Enter salary: \"))\n",
    "yos = int(input(\"Enter year of service\"))\n",
    "if yos>5:\n",
    "  print(\"Bonus is\",.05*salary)\n",
    "else:\n",
    "  print(\"No bonus\")"
   ]
  },
  {
   "cell_type": "code",
   "execution_count": 50,
   "metadata": {},
   "outputs": [
    {
     "name": "stdout",
     "output_type": "stream",
     "text": [
      "Enter quantity56\n",
      "Cost is 5040.0\n"
     ]
    }
   ],
   "source": [
    "'''[3]. A shop will give discount of 10% if the cost of purchased quantity is more than 1000.\n",
    "Ask user for quantity\n",
    "Suppose, one unit will cost 100.\n",
    "Judge and print total cost for user.\n",
    "'''\n",
    "\n",
    "\n",
    "quantity = int(input(\"Enter quantity\"))\n",
    "if quantity*100 > 1000:\n",
    "  print (\"Cost is\",((quantity*100)-(.1*quantity*100)))\n",
    "else:\n",
    "  print (\"Cost is\",quantity*100)\n"
   ]
  },
  {
   "cell_type": "code",
   "execution_count": 52,
   "metadata": {},
   "outputs": [
    {
     "name": "stdout",
     "output_type": "stream",
     "text": [
      "input first number: 45\n",
      "input second number: 65\n",
      "Greatest is 65\n"
     ]
    }
   ],
   "source": [
    "'''[2]. Take two int values from user and print greatest among them.'''\n",
    "\n",
    "first=int(input('input first number: '))\n",
    "second=int(input('input second number: '))\n",
    "\n",
    "if first>second:\n",
    "  print(\"Greatest is\",first)\n",
    "elif second>first:\n",
    "  print(\"Greatest is\",second)\n",
    "else:\n",
    "  print(\"Both are equal\")"
   ]
  },
  {
   "cell_type": "code",
   "execution_count": 57,
   "metadata": {},
   "outputs": [
    {
     "name": "stdout",
     "output_type": "stream",
     "text": [
      "enter length: 45\n",
      "Enter breadth65\n",
      "No, it is only Rectangle\n"
     ]
    }
   ],
   "source": [
    "length = int(input(\"enter length: \"))\n",
    "breadth=int(input('Enter breadth'))\n",
    "if length == breadth:\n",
    "  print (\"Yes, it is square\")\n",
    "else:\n",
    "  print (\"No, it is only Rectangle\")"
   ]
  }
 ],
 "metadata": {
  "kernelspec": {
   "display_name": "Python 3",
   "language": "python",
   "name": "python3"
  },
  "language_info": {
   "codemirror_mode": {
    "name": "ipython",
    "version": 3
   },
   "file_extension": ".py",
   "mimetype": "text/x-python",
   "name": "python",
   "nbconvert_exporter": "python",
   "pygments_lexer": "ipython3",
   "version": "3.8.5"
  }
 },
 "nbformat": 4,
 "nbformat_minor": 4
}
