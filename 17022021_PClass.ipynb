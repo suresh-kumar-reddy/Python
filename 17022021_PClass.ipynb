{
 "cells": [
  {
   "cell_type": "code",
   "execution_count": 10,
   "metadata": {},
   "outputs": [
    {
     "name": "stdout",
     "output_type": "stream",
     "text": [
      "21 18 15 12 9 6 3 "
     ]
    }
   ],
   "source": [
    "for n in range(21,0,-3):\n",
    "    print(n,end=' ')\n",
    "    "
   ]
  },
  {
   "cell_type": "code",
   "execution_count": 26,
   "metadata": {},
   "outputs": [
    {
     "ename": "KeyboardInterrupt",
     "evalue": "Interrupted by user",
     "output_type": "error",
     "traceback": [
      "\u001b[1;31m---------------------------------------------------------------------------\u001b[0m",
      "\u001b[1;31mKeyboardInterrupt\u001b[0m                         Traceback (most recent call last)",
      "\u001b[1;32m<ipython-input-26-eefb1d21798b>\u001b[0m in \u001b[0;36m<module>\u001b[1;34m\u001b[0m\n\u001b[1;32m----> 1\u001b[1;33m \u001b[0mword\u001b[0m\u001b[1;33m=\u001b[0m\u001b[0minput\u001b[0m\u001b[1;33m(\u001b[0m\u001b[1;34m\"Input a word please: \"\u001b[0m\u001b[1;33m)\u001b[0m\u001b[1;33m\u001b[0m\u001b[1;33m\u001b[0m\u001b[0m\n\u001b[0m\u001b[0;32m      2\u001b[0m \u001b[0mvowel_count\u001b[0m\u001b[1;33m=\u001b[0m\u001b[1;36m0\u001b[0m\u001b[1;33m\u001b[0m\u001b[1;33m\u001b[0m\u001b[0m\n\u001b[0;32m      3\u001b[0m \u001b[0mcons_count\u001b[0m\u001b[1;33m=\u001b[0m\u001b[1;36m0\u001b[0m\u001b[1;33m\u001b[0m\u001b[1;33m\u001b[0m\u001b[0m\n\u001b[0;32m      4\u001b[0m \u001b[0mtemp_vowel\u001b[0m\u001b[1;33m=\u001b[0m\u001b[1;34m''\u001b[0m\u001b[1;33m\u001b[0m\u001b[1;33m\u001b[0m\u001b[0m\n\u001b[0;32m      5\u001b[0m \u001b[0mtemp_cons\u001b[0m\u001b[1;33m=\u001b[0m\u001b[1;34m''\u001b[0m\u001b[1;33m\u001b[0m\u001b[1;33m\u001b[0m\u001b[0m\n",
      "\u001b[1;32m~\\anaconda3\\lib\\site-packages\\ipykernel\\kernelbase.py\u001b[0m in \u001b[0;36mraw_input\u001b[1;34m(self, prompt)\u001b[0m\n\u001b[0;32m    858\u001b[0m                 \u001b[1;34m\"raw_input was called, but this frontend does not support input requests.\"\u001b[0m\u001b[1;33m\u001b[0m\u001b[1;33m\u001b[0m\u001b[0m\n\u001b[0;32m    859\u001b[0m             )\n\u001b[1;32m--> 860\u001b[1;33m         return self._input_request(str(prompt),\n\u001b[0m\u001b[0;32m    861\u001b[0m             \u001b[0mself\u001b[0m\u001b[1;33m.\u001b[0m\u001b[0m_parent_ident\u001b[0m\u001b[1;33m,\u001b[0m\u001b[1;33m\u001b[0m\u001b[1;33m\u001b[0m\u001b[0m\n\u001b[0;32m    862\u001b[0m             \u001b[0mself\u001b[0m\u001b[1;33m.\u001b[0m\u001b[0m_parent_header\u001b[0m\u001b[1;33m,\u001b[0m\u001b[1;33m\u001b[0m\u001b[1;33m\u001b[0m\u001b[0m\n",
      "\u001b[1;32m~\\anaconda3\\lib\\site-packages\\ipykernel\\kernelbase.py\u001b[0m in \u001b[0;36m_input_request\u001b[1;34m(self, prompt, ident, parent, password)\u001b[0m\n\u001b[0;32m    902\u001b[0m             \u001b[1;32mexcept\u001b[0m \u001b[0mKeyboardInterrupt\u001b[0m\u001b[1;33m:\u001b[0m\u001b[1;33m\u001b[0m\u001b[1;33m\u001b[0m\u001b[0m\n\u001b[0;32m    903\u001b[0m                 \u001b[1;31m# re-raise KeyboardInterrupt, to truncate traceback\u001b[0m\u001b[1;33m\u001b[0m\u001b[1;33m\u001b[0m\u001b[1;33m\u001b[0m\u001b[0m\n\u001b[1;32m--> 904\u001b[1;33m                 \u001b[1;32mraise\u001b[0m \u001b[0mKeyboardInterrupt\u001b[0m\u001b[1;33m(\u001b[0m\u001b[1;34m\"Interrupted by user\"\u001b[0m\u001b[1;33m)\u001b[0m \u001b[1;32mfrom\u001b[0m \u001b[1;32mNone\u001b[0m\u001b[1;33m\u001b[0m\u001b[1;33m\u001b[0m\u001b[0m\n\u001b[0m\u001b[0;32m    905\u001b[0m             \u001b[1;32mexcept\u001b[0m \u001b[0mException\u001b[0m \u001b[1;32mas\u001b[0m \u001b[0me\u001b[0m\u001b[1;33m:\u001b[0m\u001b[1;33m\u001b[0m\u001b[1;33m\u001b[0m\u001b[0m\n\u001b[0;32m    906\u001b[0m                 \u001b[0mself\u001b[0m\u001b[1;33m.\u001b[0m\u001b[0mlog\u001b[0m\u001b[1;33m.\u001b[0m\u001b[0mwarning\u001b[0m\u001b[1;33m(\u001b[0m\u001b[1;34m\"Invalid Message:\"\u001b[0m\u001b[1;33m,\u001b[0m \u001b[0mexc_info\u001b[0m\u001b[1;33m=\u001b[0m\u001b[1;32mTrue\u001b[0m\u001b[1;33m)\u001b[0m\u001b[1;33m\u001b[0m\u001b[1;33m\u001b[0m\u001b[0m\n",
      "\u001b[1;31mKeyboardInterrupt\u001b[0m: Interrupted by user"
     ]
    }
   ],
   "source": [
    "word=input(\"Input a word please: \")\n",
    "vowel_count=0\n",
    "cons_count=0\n",
    "temp_vowel=''\n",
    "temp_cons=''\n",
    "for char in word:\n",
    "    if char=='a' or char=='e' or char=='i' or char=='o' or char=='u' or char=='A' or char=='E' or char=='I' or char=='O' or char=='U':\n",
    "        vowel_count+=1\n",
    "        temp_vowel+=char\n",
    "    else:\n",
    "        cons_count+=1\n",
    "        temp_cons+=char\n",
    "        \n",
    "print('\\n')\n",
    "print('The vowels are: ',temp_vowel)\n",
    "print('The cons are: ',temp_cons)\n",
    "print('\\n')\n",
    "print('The number of vowels are=',vowel_count)\n",
    "print('The number of cons are=',cons_count)\n"
   ]
  },
  {
   "cell_type": "code",
   "execution_count": 21,
   "metadata": {},
   "outputs": [
    {
     "name": "stdout",
     "output_type": "stream",
     "text": [
      "Week 1 87\n",
      "Week 2 154\n",
      "Week 3 221\n",
      "Week 4 288\n",
      "Week 5 355\n",
      "Week 6 422\n",
      "Week 7 489\n",
      "Week 8 556\n",
      "Week 9 623\n",
      "Week 10 690\n",
      "Week 11 757\n",
      "Week 12 824\n",
      "Week 13 891\n",
      "Week 14 958\n",
      "Week 15 1025\n",
      "Week 16 1092\n",
      "Week 17 1159\n",
      "Week 18 1226\n",
      "Week 19 1293\n",
      "Week 20 1360\n",
      "Week 21 1427\n",
      "Week 22 1494\n",
      "Week 23 1561\n",
      "Week 24 1628\n",
      "Week 25 1695\n",
      "Week 26 1762\n",
      "Week 27 1829\n",
      "Week 28 1896\n",
      "Week 29 1963\n",
      "Week 30 2030\n",
      "Week 31 2097\n",
      "Week 32 2164\n",
      "Week 33 2231\n",
      "Week 34 2298\n",
      "Week 35 2365\n",
      "Week 36 2432\n",
      "Week 37 2499\n",
      "Week 38 2566\n",
      "Week 39 2633\n",
      "Week 40 2700\n",
      "Week 41 2767\n",
      "Week 42 2834\n",
      "Week 43 2901\n",
      "Week 44 2968\n",
      "Week 45 3035\n",
      "Week 46 3102\n",
      "Week 47 3169\n",
      "Week 48 3236\n",
      "Week 49 3303\n",
      "Week 50 3370\n",
      "Week 51 3437\n",
      "Week 52 3504\n"
     ]
    }
   ],
   "source": [
    "initial_coins=20\n",
    "everyweek_coins=70\n",
    "sum_coins=initial_coins\n",
    "for week in range(1,53):\n",
    "    sum_coins+=everyweek_coins-minus_everyweek\n",
    "    print('Week',week,sum_coins)"
   ]
  },
  {
   "cell_type": "code",
   "execution_count": 25,
   "metadata": {},
   "outputs": [
    {
     "name": "stdout",
     "output_type": "stream",
     "text": [
      "ABC\n",
      "ACB\n",
      "BAC\n",
      "BCA\n",
      "CAB\n",
      "CBA\n"
     ]
    }
   ],
   "source": [
    "for first in 'ABC':\n",
    "    for second in 'ABC':\n",
    "        if second!=first:\n",
    "            for third in 'ABC':\n",
    "                if third!=first and third!=second:\n",
    "                    print(first+second+third)\n",
    "                    \n",
    "    \n"
   ]
  },
  {
   "cell_type": "code",
   "execution_count": 38,
   "metadata": {},
   "outputs": [
    {
     "name": "stdout",
     "output_type": "stream",
     "text": [
      "statement\n",
      "second statement\n"
     ]
    }
   ],
   "source": [
    "x=10\n",
    "while x==10:\n",
    "    print('statement')\n",
    "    x=5\n",
    "    print('second statement')\n"
   ]
  },
  {
   "cell_type": "code",
   "execution_count": 37,
   "metadata": {},
   "outputs": [
    {
     "name": "stdout",
     "output_type": "stream",
     "text": [
      "statement\n",
      "second statement\n"
     ]
    }
   ],
   "source": [
    "x=10\n",
    "while x==10:\n",
    "    print('statement')\n",
    "    x=5\n",
    "    print('second statement')\n"
   ]
  },
  {
   "cell_type": "code",
   "execution_count": 45,
   "metadata": {},
   "outputs": [
    {
     "name": "stdout",
     "output_type": "stream",
     "text": [
      "enter name: stop\n"
     ]
    }
   ],
   "source": [
    "while True:\n",
    "    name=input('enter name: ')\n",
    "    if name=='stop':\n",
    "        break\n",
    "    age=input('age: ')\n",
    "    \n",
    "    print(name)\n",
    "    print(age)"
   ]
  },
  {
   "cell_type": "code",
   "execution_count": 61,
   "metadata": {},
   "outputs": [
    {
     "name": "stdout",
     "output_type": "stream",
     "text": [
      "86420"
     ]
    }
   ],
   "source": [
    "x=10\n",
    "while x:\n",
    "    x=x-1\n",
    "    if x % 2 != 0: continue\n",
    "    print(x,end='')\n",
    "        "
   ]
  },
  {
   "cell_type": "code",
   "execution_count": null,
   "metadata": {},
   "outputs": [],
   "source": []
  }
 ],
 "metadata": {
  "kernelspec": {
   "display_name": "Python 3",
   "language": "python",
   "name": "python3"
  },
  "language_info": {
   "codemirror_mode": {
    "name": "ipython",
    "version": 3
   },
   "file_extension": ".py",
   "mimetype": "text/x-python",
   "name": "python",
   "nbconvert_exporter": "python",
   "pygments_lexer": "ipython3",
   "version": "3.8.5"
  }
 },
 "nbformat": 4,
 "nbformat_minor": 4
}
