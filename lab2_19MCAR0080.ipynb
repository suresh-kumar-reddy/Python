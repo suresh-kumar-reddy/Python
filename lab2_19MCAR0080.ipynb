{
 "cells": [
  {
   "cell_type": "code",
   "execution_count": 27,
   "metadata": {},
   "outputs": [
    {
     "name": "stdout",
     "output_type": "stream",
     "text": [
      "Please enter a number:\n",
      "5\n",
      "Please enter a number:\n",
      "4\n",
      "Please enter a number:\n",
      "7\n",
      "Please enter a number:\n",
      "9\n",
      "Please enter a number:\n",
      "1\n",
      "9\n"
     ]
    }
   ],
   "source": [
    "a = int(input(\"Please enter a number:\\n\"))\n",
    "b = int(input(\"Please enter a number:\\n\"))\n",
    "c = int(input(\"Please enter a number:\\n\"))\n",
    "d = int(input(\"Please enter a number:\\n\"))\n",
    "e = int(input(\"Please enter a number:\\n\"))\n",
    "if a>=b and a>=c and a>=d and a>=e:\n",
    "    print(a)\n",
    "elif b>=a and b>=c and b>=d and b>=e:\n",
    "    print(b)\n",
    "elif c>=a and c>=b and c>=d and c>=e:\n",
    "    print(c)\n",
    "elif d>=a and d>=b and d>=c and d>=e:\n",
    "    print(d)\n",
    "else:        \n",
    "    print(e)\n"
   ]
  },
  {
   "cell_type": "code",
   "execution_count": 31,
   "metadata": {},
   "outputs": [
    {
     "name": "stdout",
     "output_type": "stream",
     "text": [
      "Enter number: 5\n",
      "5 is a prime number\n"
     ]
    }
   ],
   "source": [
    "num=int(input(\"Enter number: \"))\n",
    "if num > 1:\n",
    "    for i in range(2, num):\n",
    "        if (num % i) == 0:\n",
    "            print(num, \"is not a prime number\")\n",
    "            break\n",
    "    else:x\n",
    "        print(num, \"is a prime number\")\n",
    " \n",
    "else:\n",
    "    print(num, \"is not a prime number\")"
   ]
  },
  {
   "cell_type": "code",
   "execution_count": 77,
   "metadata": {},
   "outputs": [
    {
     "name": "stdout",
     "output_type": "stream",
     "text": [
      " Please Enter any Maximum Number : 44\n",
      "4\n",
      "8\n",
      "12\n",
      "16\n",
      "20\n",
      "24\n",
      "28\n",
      "32\n",
      "36\n",
      "40\n",
      "44\n"
     ]
    }
   ],
   "source": [
    "num = int(input(\" Please Enter any Maximum Number : \"))\n",
    " \n",
    "for number in range(1, num + 1):\n",
    "    if(number % 4 == 0):\n",
    "        print(\"{0}\".format(number))"
   ]
  },
  {
   "cell_type": "code",
   "execution_count": 78,
   "metadata": {},
   "outputs": [
    {
     "name": "stdout",
     "output_type": "stream",
     "text": [
      "Second highest number is :  45\n"
     ]
    }
   ],
   "source": [
    "list1 = [10, 20, 4, 45, 99]\n",
    "\n",
    "mx=max(list1[0],list1[1]) \n",
    "secondmax=min(list1[0],list1[1]) \n",
    "n =len(list1)\n",
    "for i in range(2,n): \n",
    "    if list1[i]>mx: \n",
    "        secondmax=mx\n",
    "        mx=list1[i] \n",
    "    elif list1[i]>secondmax and \\\n",
    "        mx != list1[i]: \n",
    "        secondmax=list1[i]\n",
    "\n",
    "print(\"Second highest number is : \",\\\n",
    "    str(secondmax))"
   ]
  },
  {
   "cell_type": "code",
   "execution_count": 48,
   "metadata": {},
   "outputs": [
    {
     "name": "stdout",
     "output_type": "stream",
     "text": [
      "How many numbers: 5\n",
      "Enter number 4\n",
      "Enter number 3\n",
      "Enter number 4\n",
      "Enter number 6\n",
      "Enter number 8\n",
      "\n",
      "Minimum element in the list is : 3\n"
     ]
    }
   ],
   "source": [
    "lst = []\n",
    "num = int(input('How many numbers: '))\n",
    "for n in range(num):\n",
    "    numbers = int(input('Enter number '))\n",
    "    lst.append(numbers)\n",
    "print(\"\\nMinimum element in the list is :\", min(lst))"
   ]
  },
  {
   "cell_type": "code",
   "execution_count": 14,
   "metadata": {},
   "outputs": [
    {
     "name": "stdout",
     "output_type": "stream",
     "text": [
      "a is in (7,15)\n"
     ]
    }
   ],
   "source": [
    "a = 8\n",
    "\n",
    "if a<0:\n",
    "\tprint('a is less than zero.')\n",
    "elif a>0 and a<8:\n",
    "\tprint('a is in (0,8)')\n",
    "elif a>7 and a<15:\n",
    "\tprint('a is in (7,15)')"
   ]
  }
 ],
 "metadata": {
  "kernelspec": {
   "display_name": "Python 3",
   "language": "python",
   "name": "python3"
  },
  "language_info": {
   "codemirror_mode": {
    "name": "ipython",
    "version": 3
   },
   "file_extension": ".py",
   "mimetype": "text/x-python",
   "name": "python",
   "nbconvert_exporter": "python",
   "pygments_lexer": "ipython3",
   "version": "3.8.5"
  }
 },
 "nbformat": 4,
 "nbformat_minor": 4
}
