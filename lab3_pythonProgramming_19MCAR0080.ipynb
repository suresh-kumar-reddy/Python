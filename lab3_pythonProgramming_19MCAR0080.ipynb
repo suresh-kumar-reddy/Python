{
 "cells": [
  {
   "cell_type": "code",
   "execution_count": 3,
   "metadata": {},
   "outputs": [
    {
     "name": "stdout",
     "output_type": "stream",
     "text": [
      "False\n",
      "\n",
      "\n",
      "True\n"
     ]
    }
   ],
   "source": [
    "a=30\n",
    "b=45\n",
    "print(a==b)\n",
    "print('\\n')\n",
    "print(a!=b)"
   ]
  },
  {
   "cell_type": "code",
   "execution_count": 10,
   "metadata": {},
   "outputs": [
    {
     "name": "stdout",
     "output_type": "stream",
     "text": [
      "1\n"
     ]
    }
   ],
   "source": [
    "a=4>3\n",
    "a=int(a)\n",
    "print(a)\n"
   ]
  },
  {
   "cell_type": "code",
   "execution_count": 11,
   "metadata": {},
   "outputs": [
    {
     "name": "stdout",
     "output_type": "stream",
     "text": [
      "0\n"
     ]
    }
   ],
   "source": [
    "a=1>3\n",
    "a=int(a)\n",
    "print(a)\n"
   ]
  },
  {
   "cell_type": "code",
   "execution_count": 20,
   "metadata": {},
   "outputs": [
    {
     "name": "stdout",
     "output_type": "stream",
     "text": [
      "True\n",
      "True\n",
      "False\n",
      "True\n",
      "False\n",
      "True\n",
      "True\n",
      "False\n",
      "False\n",
      "True\n",
      "True\n",
      "False\n"
     ]
    }
   ],
   "source": [
    "x, y, z = 3, 5, 7\n",
    "\n",
    "print(x == 3)\n",
    "print(x < y)\n",
    "print(x >= y)\n",
    "print(x <= y)\n",
    "print(x != y - 2)\n",
    "print(x < 10)\n",
    "print(x >= 0 and x < 10)\n",
    "print(x < 0 and x < 10)\n",
    "print(x >= 0 and x < 2)\n",
    "print(x < 0 or x < 10)\n",
    "print(x > 0 or x < 10)\n",
    "print(x < 0 or x > 10)\n"
   ]
  },
  {
   "cell_type": "code",
   "execution_count": 26,
   "metadata": {},
   "outputs": [
    {
     "name": "stdout",
     "output_type": "stream",
     "text": [
      "True\n",
      "False\n",
      "False\n",
      "True\n",
      "False\n",
      "True\n",
      "False\n",
      "True\n",
      "True\n",
      "True\n",
      "False\n",
      "True\n",
      "False\n",
      "True\n",
      "True\n",
      "True\n",
      "False\n",
      "True\n",
      "False\n",
      "True\n",
      "True\n",
      "False\n",
      "False\n",
      "True\n",
      "True\n",
      "False\n"
     ]
    }
   ],
   "source": [
    "x, y = 3, 5\n",
    "b1, b2, b3, b4 = True, False, x == 3, y < 3\n",
    "print(b3)\n",
    "print(b4)\n",
    "print(not b1)\n",
    "print(not b2)\n",
    "print(not b3)\n",
    "print(not b4)\n",
    "print(b1 and b2)\n",
    "print(b1 or b2)\n",
    "print(b1 and b3)\n",
    "print(b1 or b3)\n",
    "print(b1 and b4)\n",
    "print(b1 or b4)\n",
    "print(b2 and b3)\n",
    "print(b2 or b3)\n",
    "print(b1 and b2 or b3)\n",
    "print(b1 or b2 and b3)\n",
    "print(b1 and b2 and b3)\n",
    "print(b1 or b2 or b3)\n",
    "print(not b1 and b2 and b3)\n",
    "print(not b1 or b2 or b3)\n",
    "print(not (b1 and b2 and b3))\n",
    "print(not (b1 or b2 or b3))\n",
    "print(not b1 and not b2 and not b3)\n",
    "print(not b1 or not b2 or not b3)\n",
    "print(not (not b1 and not b2 and not b3))\n",
    "print(not (not b1 or not b2 or not b3))\n"
   ]
  },
  {
   "cell_type": "code",
   "execution_count": 29,
   "metadata": {},
   "outputs": [
    {
     "name": "stdout",
     "output_type": "stream",
     "text": [
      "True\n",
      "True\n",
      "False\n",
      "False\n",
      "False\n",
      "False\n",
      "True\n",
      "False\n"
     ]
    }
   ],
   "source": [
    "x=1\n",
    "print(not (x == 2))\n",
    "print(x < 2 or x == 2)\n",
    "print(not (x < y))\n",
    "print(not (x <= y))\n",
    "print(x < 10 and x > 20)\n",
    "print(x < 10 and x > 20)\n",
    "print(x!=0)\n",
    "print(x==0)"
   ]
  },
  {
   "cell_type": "code",
   "execution_count": 38,
   "metadata": {},
   "outputs": [
    {
     "name": "stdout",
     "output_type": "stream",
     "text": [
      "Enter first number: 44\n",
      "Enter second number: 55\n",
      "Enter third number: 66\n",
      "Enter fourth number: 75\n",
      "Enter fifth number: 45\n",
      "Does't contains duplicates\n"
     ]
    }
   ],
   "source": [
    "value1=int(input('Enter first number: '))\n",
    "value2=int(input('Enter second number: '))\n",
    "value3=int(input('Enter third number: '))\n",
    "value4=int(input('Enter fourth number: '))\n",
    "value5=int(input('Enter fifth number: '))\n",
    "if value1==value2 or value1==value3 or value1==value4 or value1==value5 or value2==value3 or value2==value4 or value2==value5 or value3==value4 or value3==value5 or value4==value5:\n",
    "    print('contains duplicates')\n",
    "else:\n",
    "    print('Does\\'t contains duplicates')"
   ]
  },
  {
   "cell_type": "code",
   "execution_count": null,
   "metadata": {},
   "outputs": [],
   "source": [
    "value1=int(input('Enter first number: '))\n",
    "value2=int(input('Enter second number: '))\n",
    "value3=int(input('Enter third number: '))\n",
    "value4=int(input('Enter fourth number: '))\n",
    "value5=int(input('Enter fifth number: '))\n"
   ]
  },
  {
   "cell_type": "code",
   "execution_count": null,
   "metadata": {},
   "outputs": [],
   "source": []
  },
  {
   "cell_type": "code",
   "execution_count": null,
   "metadata": {},
   "outputs": [],
   "source": []
  }
 ],
 "metadata": {
  "kernelspec": {
   "display_name": "Python 3",
   "language": "python",
   "name": "python3"
  },
  "language_info": {
   "codemirror_mode": {
    "name": "ipython",
    "version": 3
   },
   "file_extension": ".py",
   "mimetype": "text/x-python",
   "name": "python",
   "nbconvert_exporter": "python",
   "pygments_lexer": "ipython3",
   "version": "3.8.5"
  }
 },
 "nbformat": 4,
 "nbformat_minor": 4
}
