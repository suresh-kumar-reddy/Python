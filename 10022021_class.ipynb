{
 "cells": [
  {
   "cell_type": "code",
   "execution_count": 7,
   "metadata": {},
   "outputs": [
    {
     "name": "stdout",
     "output_type": "stream",
     "text": [
      "False \n",
      "\n",
      "\n",
      "d1= 0.010000000000000009 d2= 0.009999999999999787 \n",
      "\n",
      "\n",
      "not same\n"
     ]
    }
   ],
   "source": [
    "#floating point equality\n",
    "\n",
    "d1=1.11-1.10\n",
    "d2=2.11-2.10\n",
    "print(d1==d2,'\\n\\n')\n",
    "\n",
    "print('d1=',d1,'d2=',d2,'\\n\\n')\n",
    "if d1==d2:\n",
    "    print('same')\n",
    "else:\n",
    "    print('not same')\n",
    "    \n",
    "#precision value is different in both the variables in the above example"
   ]
  },
  {
   "cell_type": "code",
   "execution_count": null,
   "metadata": {},
   "outputs": [],
   "source": [
    "#nested conditions\n",
    "\n",
    "withdrawel_amount=int(input('Enter amount to withdraw: '))\n",
    "main_bal=20000\n",
    "if withdrawel_amount<=main_bal:\n",
    "    temp_pin=int(input('Enter the pin: ')\n",
    "    pin=3454\n",
    "    if pin==temp_pin:\n",
    "        if withdrawel_amount>=10000:\n",
    "            server_otp=4853\n",
    "            sent_otp=input('Enter otp which has been sent to the registered mobile: ')\n",
    "            if otp==sent_otp:\n",
    "                print('\\npls take the cash!')\n",
    "            else:\n",
    "                 print('\\notp is not matched')\n",
    "        "
   ]
  },
  {
   "cell_type": "code",
   "execution_count": null,
   "metadata": {},
   "outputs": [],
   "source": []
  },
  {
   "cell_type": "code",
   "execution_count": null,
   "metadata": {},
   "outputs": [],
   "source": []
  },
  {
   "cell_type": "code",
   "execution_count": 30,
   "metadata": {},
   "outputs": [
    {
     "ename": "KeyboardInterrupt",
     "evalue": "Interrupted by user",
     "output_type": "error",
     "traceback": [
      "\u001b[1;31m---------------------------------------------------------------------------\u001b[0m",
      "\u001b[1;31mKeyboardInterrupt\u001b[0m                         Traceback (most recent call last)",
      "\u001b[1;32m<ipython-input-30-9546fe32d0e0>\u001b[0m in \u001b[0;36m<module>\u001b[1;34m\u001b[0m\n\u001b[1;32m----> 1\u001b[1;33m \u001b[0mhas_power\u001b[0m\u001b[1;33m=\u001b[0m\u001b[0minput\u001b[0m\u001b[1;33m(\u001b[0m\u001b[1;34m'Enter power status(yes/no)'\u001b[0m\u001b[1;33m)\u001b[0m\u001b[1;33m\u001b[0m\u001b[1;33m\u001b[0m\u001b[0m\n\u001b[0m\u001b[0;32m      2\u001b[0m \u001b[1;32mif\u001b[0m \u001b[0mhas_power\u001b[0m\u001b[1;33m==\u001b[0m\u001b[1;34m'no'\u001b[0m\u001b[1;33m:\u001b[0m\u001b[1;33m\u001b[0m\u001b[1;33m\u001b[0m\u001b[0m\n\u001b[0;32m      3\u001b[0m     \u001b[0mis_plugged_in\u001b[0m\u001b[1;33m=\u001b[0m\u001b[0minput\u001b[0m\u001b[1;33m(\u001b[0m\u001b[1;34m'Is the wire plugged in(yes/no)'\u001b[0m\u001b[1;33m)\u001b[0m\u001b[1;33m\u001b[0m\u001b[1;33m\u001b[0m\u001b[0m\n\u001b[0;32m      4\u001b[0m     \u001b[1;32mif\u001b[0m \u001b[0mis_plugged_in\u001b[0m\u001b[1;33m==\u001b[0m\u001b[1;34m'yes'\u001b[0m\u001b[1;33m:\u001b[0m\u001b[1;33m\u001b[0m\u001b[1;33m\u001b[0m\u001b[0m\n\u001b[0;32m      5\u001b[0m         \u001b[0mis_switch_on\u001b[0m\u001b[1;33m=\u001b[0m\u001b[0minput\u001b[0m\u001b[1;33m(\u001b[0m\u001b[1;34m'is switch on?(yes/no)'\u001b[0m\u001b[1;33m)\u001b[0m\u001b[1;33m\u001b[0m\u001b[1;33m\u001b[0m\u001b[0m\n",
      "\u001b[1;32m~\\anaconda3\\lib\\site-packages\\ipykernel\\kernelbase.py\u001b[0m in \u001b[0;36mraw_input\u001b[1;34m(self, prompt)\u001b[0m\n\u001b[0;32m    858\u001b[0m                 \u001b[1;34m\"raw_input was called, but this frontend does not support input requests.\"\u001b[0m\u001b[1;33m\u001b[0m\u001b[1;33m\u001b[0m\u001b[0m\n\u001b[0;32m    859\u001b[0m             )\n\u001b[1;32m--> 860\u001b[1;33m         return self._input_request(str(prompt),\n\u001b[0m\u001b[0;32m    861\u001b[0m             \u001b[0mself\u001b[0m\u001b[1;33m.\u001b[0m\u001b[0m_parent_ident\u001b[0m\u001b[1;33m,\u001b[0m\u001b[1;33m\u001b[0m\u001b[1;33m\u001b[0m\u001b[0m\n\u001b[0;32m    862\u001b[0m             \u001b[0mself\u001b[0m\u001b[1;33m.\u001b[0m\u001b[0m_parent_header\u001b[0m\u001b[1;33m,\u001b[0m\u001b[1;33m\u001b[0m\u001b[1;33m\u001b[0m\u001b[0m\n",
      "\u001b[1;32m~\\anaconda3\\lib\\site-packages\\ipykernel\\kernelbase.py\u001b[0m in \u001b[0;36m_input_request\u001b[1;34m(self, prompt, ident, parent, password)\u001b[0m\n\u001b[0;32m    902\u001b[0m             \u001b[1;32mexcept\u001b[0m \u001b[0mKeyboardInterrupt\u001b[0m\u001b[1;33m:\u001b[0m\u001b[1;33m\u001b[0m\u001b[1;33m\u001b[0m\u001b[0m\n\u001b[0;32m    903\u001b[0m                 \u001b[1;31m# re-raise KeyboardInterrupt, to truncate traceback\u001b[0m\u001b[1;33m\u001b[0m\u001b[1;33m\u001b[0m\u001b[1;33m\u001b[0m\u001b[0m\n\u001b[1;32m--> 904\u001b[1;33m                 \u001b[1;32mraise\u001b[0m \u001b[0mKeyboardInterrupt\u001b[0m\u001b[1;33m(\u001b[0m\u001b[1;34m\"Interrupted by user\"\u001b[0m\u001b[1;33m)\u001b[0m \u001b[1;32mfrom\u001b[0m \u001b[1;32mNone\u001b[0m\u001b[1;33m\u001b[0m\u001b[1;33m\u001b[0m\u001b[0m\n\u001b[0m\u001b[0;32m    905\u001b[0m             \u001b[1;32mexcept\u001b[0m \u001b[0mException\u001b[0m \u001b[1;32mas\u001b[0m \u001b[0me\u001b[0m\u001b[1;33m:\u001b[0m\u001b[1;33m\u001b[0m\u001b[1;33m\u001b[0m\u001b[0m\n\u001b[0;32m    906\u001b[0m                 \u001b[0mself\u001b[0m\u001b[1;33m.\u001b[0m\u001b[0mlog\u001b[0m\u001b[1;33m.\u001b[0m\u001b[0mwarning\u001b[0m\u001b[1;33m(\u001b[0m\u001b[1;34m\"Invalid Message:\"\u001b[0m\u001b[1;33m,\u001b[0m \u001b[0mexc_info\u001b[0m\u001b[1;33m=\u001b[0m\u001b[1;32mTrue\u001b[0m\u001b[1;33m)\u001b[0m\u001b[1;33m\u001b[0m\u001b[1;33m\u001b[0m\u001b[0m\n",
      "\u001b[1;31mKeyboardInterrupt\u001b[0m: Interrupted by user"
     ]
    }
   ],
   "source": [
    "has_power=input('Enter power status(yes/no)')\n",
    "if has_power=='no':\n",
    "    is_plugged_in=input('Is the wire plugged in(yes/no)')\n",
    "    if is_plugged_in=='yes':\n",
    "        is_switch_on=input('is switch on?(yes/no)')\n",
    "        if is_switch_on=='yes':\n",
    "            is_fuse_ok=input(\"is fuse ok?(yes/no)\")\n",
    "            if is_fuse_ok=='yes':\n",
    "                print('seek other help')\n",
    "            else:\n",
    "                print('check fuse')\n",
    "        else:\n",
    "            print('Turn on switch')\n",
    "    else:\n",
    "        print('plug it in')\n",
    "else:\n",
    "    print('seek other help')\n",
    "        \n",
    "    \n",
    "    "
   ]
  },
  {
   "cell_type": "code",
   "execution_count": 20,
   "metadata": {},
   "outputs": [
    {
     "data": {
      "text/plain": [
       "'0b1011001'"
      ]
     },
     "execution_count": 20,
     "metadata": {},
     "output_type": "execute_result"
    }
   ],
   "source": [
    "#decimal to binary number\n",
    "bin(89)"
   ]
  },
  {
   "cell_type": "code",
   "execution_count": 21,
   "metadata": {},
   "outputs": [
    {
     "data": {
      "text/plain": [
       "'0b1100100101'"
      ]
     },
     "execution_count": 21,
     "metadata": {},
     "output_type": "execute_result"
    }
   ],
   "source": [
    "bin(805)"
   ]
  },
  {
   "cell_type": "code",
   "execution_count": 28,
   "metadata": {},
   "outputs": [
    {
     "name": "stdout",
     "output_type": "stream",
     "text": [
      "input the value to convert into binary: 805\n",
      "110010011\n"
     ]
    }
   ],
   "source": [
    "value=int(input('input the value to convert into binary: '))\n",
    "if 0<=value and value<=1023:\n",
    "    if value>=512:\n",
    "        binary_value='1'\n",
    "        rem=value%512\n",
    "        if rem>=256:\n",
    "            binary_value+='1'\n",
    "            rem=value%256\n",
    "            if rem>=128:\n",
    "                binary_value+='1'\n",
    "            else:\n",
    "                binary_value+='0'\n",
    "            if rem>=64:\n",
    "                binary_value+='1'\n",
    "            else:\n",
    "                binary_value+='0'\n",
    "            if rem>=32:\n",
    "                binary_value+='1'\n",
    "                rem=value%32\n",
    "                if rem>=16:\n",
    "                    binary_value+='1'\n",
    "                else:\n",
    "                    binary_value+='0'\n",
    "                if rem>=8: \n",
    "                    binary_value+='1'\n",
    "                else:\n",
    "                    binary_value+='0'\n",
    "                if rem>=4: \n",
    "                    binary_value+='1'\n",
    "                    rem=value%4\n",
    "                    if rem>=2:\n",
    "                        binary_value+='0'\n",
    "                    else:\n",
    "                        binary_value+='1'\n",
    "                        \n",
    "                        \n",
    "\n",
    "                \n",
    "            \n",
    "\n",
    "            \n",
    "print(binary_value)\n",
    "        "
   ]
  },
  {
   "cell_type": "code",
   "execution_count": 34,
   "metadata": {},
   "outputs": [
    {
     "name": "stdout",
     "output_type": "stream",
     "text": [
      "True\n",
      "True\n",
      "True\n",
      "True\n"
     ]
    }
   ],
   "source": [
    "#multiway decision statements\n",
    "\n",
    "a=3\n",
    "b=4\n",
    "c=2\n",
    "d=1\n",
    "\n",
    "print(not(a==b and c!=d))\n",
    "\n",
    "print(not(a==b and not(c==d)))\n",
    "\n",
    "print(not(a==b) or not (c!=d))\n",
    "\n",
    "\n",
    "print(a!=b or c==d)\n",
    "\n"
   ]
  },
  {
   "cell_type": "code",
   "execution_count": null,
   "metadata": {},
   "outputs": [],
   "source": [
    "#solve all exercise on 4.14th unit (21 are there)\n",
    "\n"
   ]
  },
  {
   "cell_type": "code",
   "execution_count": null,
   "metadata": {},
   "outputs": [],
   "source": []
  }
 ],
 "metadata": {
  "kernelspec": {
   "display_name": "Python 3",
   "language": "python",
   "name": "python3"
  },
  "language_info": {
   "codemirror_mode": {
    "name": "ipython",
    "version": 3
   },
   "file_extension": ".py",
   "mimetype": "text/x-python",
   "name": "python",
   "nbconvert_exporter": "python",
   "pygments_lexer": "ipython3",
   "version": "3.8.5"
  }
 },
 "nbformat": 4,
 "nbformat_minor": 4
}
